{
 "cells": [
  {
   "cell_type": "code",
   "execution_count": 1,
   "metadata": {},
   "outputs": [],
   "source": [
    "import tqdm"
   ]
  },
  {
   "cell_type": "code",
   "execution_count": 10,
   "metadata": {},
   "outputs": [],
   "source": []
  },
  {
   "cell_type": "code",
   "execution_count": 2,
   "metadata": {},
   "outputs": [
    {
     "name": "stderr",
     "output_type": "stream",
     "text": [
      " 97%|█████████▋| 1359327/1403897 [08:07<00:15, 2785.97it/s] \n"
     ]
    }
   ],
   "source": [
    "fileNameHapmap = \"/home/ozdemiro/LAB/learningData/HapmapProject/HapMap/Data/hapmap3_r1_b36_fwd.CEU.qc.poly.recode.map\"\n",
    "with open(fileNameHapmap) as file:\n",
    "    hapmapData = file.read()\n",
    "    hapmapData = hapmapData.split(\"\\n\")\n",
    "\n",
    "allDict = []\n",
    "for x in range(22):\n",
    "    allDict.append([])\n",
    "\n",
    "for x in tqdm.tqdm(range(len(hapmapData))):\n",
    "    rawInfo = hapmapData[x].split(\"\\t\")\n",
    "    chrNumber = int(rawInfo[0])\n",
    "    if chrNumber>22:\n",
    "        break\n",
    "    if rawInfo[1] in allDict[chrNumber-1]:\n",
    "        print(\"Duplicate\")\n",
    "    else:\n",
    "        allDict[chrNumber-1].append(rawInfo[1])\n",
    "\n",
    "\n"
   ]
  },
  {
   "cell_type": "code",
   "execution_count": 3,
   "metadata": {},
   "outputs": [
    {
     "name": "stderr",
     "output_type": "stream",
     "text": [
      "  7%|▋         | 41155/625426 [00:36<08:34, 1135.48it/s]"
     ]
    },
    {
     "name": "stderr",
     "output_type": "stream",
     "text": [
      "100%|██████████| 625426/625426 [10:54<00:00, 955.61it/s] \n"
     ]
    },
    {
     "name": "stdout",
     "output_type": "stream",
     "text": [
      "58\n",
      "103166\n"
     ]
    },
    {
     "name": "stderr",
     "output_type": "stream",
     "text": [
      "100%|██████████| 683585/683585 [12:20<00:00, 923.59it/s] \n"
     ]
    },
    {
     "name": "stdout",
     "output_type": "stream",
     "text": [
      "70\n",
      "105782\n"
     ]
    },
    {
     "name": "stderr",
     "output_type": "stream",
     "text": [
      "100%|██████████| 580727/580727 [07:55<00:00, 1221.73it/s]\n"
     ]
    },
    {
     "name": "stdout",
     "output_type": "stream",
     "text": [
      "57\n",
      "87688\n"
     ]
    },
    {
     "name": "stderr",
     "output_type": "stream",
     "text": [
      "100%|██████████| 599204/599204 [08:00<00:00, 1247.45it/s]\n"
     ]
    },
    {
     "name": "stdout",
     "output_type": "stream",
     "text": [
      "59\n",
      "79617\n"
     ]
    },
    {
     "name": "stderr",
     "output_type": "stream",
     "text": [
      "100%|██████████| 530101/530101 [06:51<00:00, 1288.33it/s]\n"
     ]
    },
    {
     "name": "stdout",
     "output_type": "stream",
     "text": [
      "44\n",
      "80886\n"
     ]
    },
    {
     "name": "stderr",
     "output_type": "stream",
     "text": [
      "100%|██████████| 551595/551595 [06:58<00:00, 1319.27it/s]\n"
     ]
    },
    {
     "name": "stdout",
     "output_type": "stream",
     "text": [
      "64\n",
      "84920\n"
     ]
    },
    {
     "name": "stderr",
     "output_type": "stream",
     "text": [
      "100%|██████████| 480037/480037 [05:32<00:00, 1443.29it/s]\n"
     ]
    },
    {
     "name": "stdout",
     "output_type": "stream",
     "text": [
      "46\n",
      "70055\n"
     ]
    },
    {
     "name": "stderr",
     "output_type": "stream",
     "text": [
      "100%|██████████| 454723/454723 [05:12<00:00, 1453.27it/s]\n"
     ]
    },
    {
     "name": "stdout",
     "output_type": "stream",
     "text": [
      "41\n",
      "69646\n"
     ]
    },
    {
     "name": "stderr",
     "output_type": "stream",
     "text": [
      "100%|██████████| 350390/350390 [03:30<00:00, 1668.31it/s]\n"
     ]
    },
    {
     "name": "stdout",
     "output_type": "stream",
     "text": [
      "36\n",
      "58215\n"
     ]
    },
    {
     "name": "stderr",
     "output_type": "stream",
     "text": [
      "100%|██████████| 416375/416375 [04:49<00:00, 1439.44it/s]\n"
     ]
    },
    {
     "name": "stdout",
     "output_type": "stream",
     "text": [
      "49\n",
      "67489\n"
     ]
    },
    {
     "name": "stderr",
     "output_type": "stream",
     "text": [
      "100%|██████████| 408236/408236 [04:20<00:00, 1569.00it/s]\n"
     ]
    },
    {
     "name": "stdout",
     "output_type": "stream",
     "text": [
      "54\n",
      "64301\n"
     ]
    },
    {
     "name": "stderr",
     "output_type": "stream",
     "text": [
      "100%|██████████| 392780/392780 [04:13<00:00, 1549.93it/s]\n"
     ]
    },
    {
     "name": "stdout",
     "output_type": "stream",
     "text": [
      "37\n",
      "62616\n"
     ]
    },
    {
     "name": "stderr",
     "output_type": "stream",
     "text": [
      "100%|██████████| 300355/300355 [02:05<00:00, 2390.91it/s]\n"
     ]
    },
    {
     "name": "stdout",
     "output_type": "stream",
     "text": [
      "30\n",
      "47699\n"
     ]
    },
    {
     "name": "stderr",
     "output_type": "stream",
     "text": [
      "100%|██████████| 266411/266411 [01:50<00:00, 2402.63it/s]\n"
     ]
    },
    {
     "name": "stdout",
     "output_type": "stream",
     "text": [
      "31\n",
      "41319\n"
     ]
    },
    {
     "name": "stderr",
     "output_type": "stream",
     "text": [
      "100%|██████████| 228670/228670 [01:25<00:00, 2678.03it/s]\n"
     ]
    },
    {
     "name": "stdout",
     "output_type": "stream",
     "text": [
      "21\n",
      "37472\n"
     ]
    },
    {
     "name": "stderr",
     "output_type": "stream",
     "text": [
      "100%|██████████| 248391/248391 [01:33<00:00, 2668.23it/s]\n"
     ]
    },
    {
     "name": "stdout",
     "output_type": "stream",
     "text": [
      "21\n",
      "39073\n"
     ]
    },
    {
     "name": "stderr",
     "output_type": "stream",
     "text": [
      "100%|██████████| 212719/212719 [01:06<00:00, 3193.52it/s]\n"
     ]
    },
    {
     "name": "stdout",
     "output_type": "stream",
     "text": [
      "24\n",
      "33277\n"
     ]
    },
    {
     "name": "stderr",
     "output_type": "stream",
     "text": [
      "100%|██████████| 231998/231998 [01:21<00:00, 2857.38it/s]\n"
     ]
    },
    {
     "name": "stdout",
     "output_type": "stream",
     "text": [
      "18\n",
      "37033\n"
     ]
    },
    {
     "name": "stderr",
     "output_type": "stream",
     "text": [
      "100%|██████████| 181729/181729 [00:40<00:00, 4475.01it/s]\n"
     ]
    },
    {
     "name": "stdout",
     "output_type": "stream",
     "text": [
      "16\n",
      "22641\n"
     ]
    },
    {
     "name": "stderr",
     "output_type": "stream",
     "text": [
      "100%|██████████| 179568/179568 [00:49<00:00, 3620.29it/s]\n"
     ]
    },
    {
     "name": "stdout",
     "output_type": "stream",
     "text": [
      "23\n",
      "32110\n"
     ]
    },
    {
     "name": "stderr",
     "output_type": "stream",
     "text": [
      "100%|██████████| 111628/111628 [00:16<00:00, 6732.37it/s]\n"
     ]
    },
    {
     "name": "stdout",
     "output_type": "stream",
     "text": [
      "14\n",
      "17823\n"
     ]
    },
    {
     "name": "stderr",
     "output_type": "stream",
     "text": [
      "100%|██████████| 108610/108610 [00:17<00:00, 6288.44it/s]"
     ]
    },
    {
     "name": "stdout",
     "output_type": "stream",
     "text": [
      "11\n",
      "17758\n"
     ]
    },
    {
     "name": "stderr",
     "output_type": "stream",
     "text": [
      "\n"
     ]
    }
   ],
   "source": [
    "commonList = []\n",
    "for x in range(22):\n",
    "    commonList.append([])\n",
    "duplicateList = []\n",
    "for x in range(22):\n",
    "    duplicateList.append([])\n",
    "        \n",
    "for chrNumber in range(1,23):\n",
    "\n",
    "    bimPath = \"/common/lir2lab/Wanling/DATA/UKBB/Genotype/chr\"+str(chrNumber)+\".bim\"\n",
    "    with open(bimPath) as file:\n",
    "        bimFile = file.read()\n",
    "        bimFile = bimFile.split(\"\\n\")\n",
    "        bimFile =bimFile[:-1]\n",
    "\n",
    "\n",
    "    for x in tqdm.tqdm(range(len(bimFile))):\n",
    "        rawInfo = bimFile[x].split(\"\\t\")\n",
    "        \n",
    "        if rawInfo[1] in allDict[chrNumber-1]:\n",
    "            if rawInfo[1] in commonList[chrNumber-1]:\n",
    "                duplicateList[chrNumber-1].append(rawInfo[1])\n",
    "            else:\n",
    "                commonList[chrNumber-1].append(rawInfo[1])\n",
    "\n",
    "    print(len(duplicateList[chrNumber-1]))\n",
    "    print(len(commonList[chrNumber-1]))"
   ]
  },
  {
   "cell_type": "code",
   "execution_count": null,
   "metadata": {},
   "outputs": [],
   "source": [
    "commonList[10]"
   ]
  },
  {
   "cell_type": "code",
   "execution_count": 6,
   "metadata": {},
   "outputs": [],
   "source": [
    "for x in range(22):\n",
    "    for y in range(len(duplicateList[x])):\n",
    "        commonList[x].remove(duplicateList[x][y])"
   ]
  },
  {
   "cell_type": "code",
   "execution_count": null,
   "metadata": {},
   "outputs": [],
   "source": [
    "import pickle\n",
    "\n",
    "with open('snpNamesUKBBhapmap.pkl', 'wb') as f:\n",
    "    pickle.dump(commonList, f)\n"
   ]
  }
 ],
 "metadata": {
  "kernelspec": {
   "display_name": "torchv1",
   "language": "python",
   "name": "python3"
  },
  "language_info": {
   "codemirror_mode": {
    "name": "ipython",
    "version": 3
   },
   "file_extension": ".py",
   "mimetype": "text/x-python",
   "name": "python",
   "nbconvert_exporter": "python",
   "pygments_lexer": "ipython3",
   "version": "3.12.3"
  }
 },
 "nbformat": 4,
 "nbformat_minor": 2
}
